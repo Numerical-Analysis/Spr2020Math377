{
 "cells": [
  {
   "cell_type": "markdown",
   "metadata": {},
   "source": [
    "# HW8-CHEN (total 78, 22 free)"
   ]
  },
  {
   "cell_type": "code",
   "execution_count": 26,
   "metadata": {},
   "outputs": [],
   "source": [
    "import numpy as np\n",
    "from scipy.interpolate import CubicSpline\n",
    "import matplotlib.pyplot as plt\n",
    "%matplotlib inline"
   ]
  },
  {
   "cell_type": "markdown",
   "metadata": {},
   "source": [
    "## Ch4-13 (10 pts)\n",
    "Draw the cubic spline found in Example 4.10. You can directly use the coefficients found in (4.16)-(4.19). You need to use the command np.polyval, and each piece needs to have a different color."
   ]
  },
  {
   "cell_type": "code",
   "execution_count": 2,
   "metadata": {},
   "outputs": [],
   "source": [
    "# put the coefficients from (4.16)-(4.19) into a matrix\n",
    "coeff = np.array([[5/8,-9/8,-1/8,5/8],\n",
    "                  [0,15/8,-3/2,-15/8],\n",
    "                  [-5/8,5/4,13/8,-7/4],\n",
    "                  [0,0,2,2]])"
   ]
  },
  {
   "cell_type": "code",
   "execution_count": 3,
   "metadata": {},
   "outputs": [
    {
     "data": {
      "image/png": "[encoded data removed]",
      "text/plain": [
       "<Figure size 432x288 with 1 Axes>"
      ]
     },
     "metadata": {},
     "output_type": "display_data"
    }
   ],
   "source": [
    "x = np.array([0,1,2,3,4])\n",
    "t1 = np.arange(x[0],x[1]+0.01,0.01)\n",
    "plt.plot(t1, np.polyval(coeff[:,0], t1-x[0]), color='r')\n",
    "t2 = np.arange(x[1],x[2]+0.01,0.01)\n",
    "plt.plot(t2, np.polyval(coeff[:,1], t2-x[1]), color='orange')\n",
    "t3 = np.arange(x[2],x[3]+0.01,0.01)\n",
    "plt.plot(t3, np.polyval(coeff[:,2], t3-x[2]), color='green')\n",
    "t4 = np.arange(x[3],x[4]+0.01,0.01)\n",
    "plt.plot(t4, np.polyval(coeff[:,3], t4-x[3]), color='blue')\n",
    "plt.show()"
   ]
  },
  {
   "cell_type": "markdown",
   "metadata": {},
   "source": [
    "## Ch4-14 (15 pts)"
   ]
  },
  {
   "cell_type": "markdown",
   "metadata": {},
   "source": [
    "### (a) \n",
    "Write a function pp = myspline(x, y) to return the natural cubic spline that interpolates the data x = (x0,x1,··· ,xn), y = (y0,y1,··· ,yn). The output pp should be a 4 by n matrix where one column corresponds to the coefficients of one piece."
   ]
  },
  {
   "cell_type": "code",
   "execution_count": 27,
   "metadata": {},
   "outputs": [],
   "source": [
    "def myspline(x,y):\n",
    "    # x are nodes (x value) = [x0,x1,...,xn]\n",
    "    # y are function values (y value) = [y0,y1,...,yn]\n",
    "    # returns an 4 by n array pp. Its ith column pp[:,i] gives the coeff for the ith piece as\n",
    "    # p_i(x) = pp[0,i]*(x-x[i])**3 + pp[1,i]*(x-x[i])**2 + pp[2,i]*(x-x[i]) + pp[3,i]\n",
    "    \n",
    "    n = len(x) - 1\n",
    "    h = x[1:] - x[:n] # this is the vector that stores the length of subintervals, length n\n",
    "\n",
    "    # construct the tridiagonal matrix H\n",
    "    D = 1/3*np.diag(h[:n-1]+h[1:]); # (n-1)*(n-1); diagonal entries\n",
    "    UD = 1/6*np.triu(np.roll(np.diag(h[1:]),1),1) # upper diagonal entries\n",
    "    LD = 1/6*np.tril(np.roll(np.diag(h[:n-1]),-1),-1) # lower diagonal entries\n",
    "    if n==2:\n",
    "        H = D\n",
    "    else:\n",
    "        H = D + UD + LD\n",
    "        \n",
    "    # construct the right hand side\n",
    "    df = (y[1:] - y[:n])/h; # length n\n",
    "    # df=[(y1-y0)/h1,(y2-y1)/h2,...,(yn-yn-1)/hn ]\n",
    "    ddf = df[1:] - df[:n-1]\n",
    "    # solve for z1,...,zn-1\n",
    "    z = np.zeros(n+1)\n",
    "    z[1:n] = np.linalg.solve(H,ddf)\n",
    "    \n",
    "    # compute coefficients\n",
    "    pp = np.zeros([4,n])\n",
    "    pp[0,:] = (-z[:n]+z[1:])/h/6; # for (x-xi)^3\n",
    "    pp[1,:] = z[:n]/2; # for (x-xi)^2\n",
    "    pp[2,:] = (y[1:]-y[:n])/h - h*(z[1:]/6+z[:n]/3) # for x-xi\n",
    "    pp[3,:] = y[:n] # constant term\n",
    "    return pp"
   ]
  },
  {
   "cell_type": "markdown",
   "metadata": {},
   "source": [
    "### (b)\n",
    "Test on Example 4.10"
   ]
  },
  {
   "cell_type": "code",
   "execution_count": 28,
   "metadata": {},
   "outputs": [],
   "source": [
    "x = np.array([0, 1, 2, 3, 4]); y = np.array([0, 0, 2, 2, -1])"
   ]
  },
  {
   "cell_type": "code",
   "execution_count": 29,
   "metadata": {},
   "outputs": [
    {
     "data": {
      "text/plain": [
       "array([[ 0.625, -1.125, -0.125,  0.625],\n",
       "       [ 0.   ,  1.875, -1.5  , -1.875],\n",
       "       [-0.625,  1.25 ,  1.625, -1.75 ],\n",
       "       [ 0.   ,  0.   ,  2.   ,  2.   ]])"
      ]
     },
     "execution_count": 29,
     "metadata": {},
     "output_type": "execute_result"
    }
   ],
   "source": [
    "pp = myspline(x,y);pp"
   ]
  },
  {
   "cell_type": "markdown",
   "metadata": {},
   "source": [
    "## Ch4-15 (10 pts)\n",
    "Use myspline to construct the natural cubic spline for the following data. Print the coefficient matrix."
   ]
  },
  {
   "cell_type": "markdown",
   "metadata": {},
   "source": [
    "### (a)"
   ]
  },
  {
   "cell_type": "code",
   "execution_count": 30,
   "metadata": {},
   "outputs": [],
   "source": [
    "xa = np.array([-0.5, -0.25, 0]);ya =np.array([-0.02475, 0.3349375, 1.101])"
   ]
  },
  {
   "cell_type": "code",
   "execution_count": 31,
   "metadata": {},
   "outputs": [
    {
     "data": {
      "text/plain": [
       "array([[ 6.502    , -6.502    ],\n",
       "       [ 0.       ,  4.8765   ],\n",
       "       [ 1.032375 ,  2.2515   ],\n",
       "       [-0.02475  ,  0.3349375]])"
      ]
     },
     "execution_count": 31,
     "metadata": {},
     "output_type": "execute_result"
    }
   ],
   "source": [
    "pp15a = myspline(xa,ya);pp15a"
   ]
  },
  {
   "cell_type": "code",
   "execution_count": 38,
   "metadata": {},
   "outputs": [],
   "source": [
    "# pp15ap = CubicSpline(xa,ya,bc_type='natural');pp15ap.c"
   ]
  },
  {
   "cell_type": "markdown",
   "metadata": {},
   "source": [
    "### (b)"
   ]
  },
  {
   "cell_type": "code",
   "execution_count": 9,
   "metadata": {},
   "outputs": [
    {
     "data": {
      "text/plain": [
       "array([[ 1.66939522, -0.15283609, -0.75827957],\n",
       "       [ 0.        ,  0.50081857,  0.45496774],\n",
       "       [-0.87776065, -0.8276788 , -0.73210017],\n",
       "       [ 0.90483742,  0.81873075,  0.74081822]])"
      ]
     },
     "execution_count": 9,
     "metadata": {},
     "output_type": "execute_result"
    }
   ],
   "source": [
    "xb =np.array([0.1, 0.2, 0.3, 0.5]); yb =np.array([0.90483742,0.81873075,0.74081822,0.60653066]);\n",
    "pp15b = myspline(xb,yb);pp15b"
   ]
  },
  {
   "cell_type": "markdown",
   "metadata": {},
   "source": [
    "## Ch4-16 (10 pts)\n",
    "The data in Exercise 15 were generated using the following functions. Use the cubic spline constructed to do the following approximation and print the true value as well."
   ]
  },
  {
   "cell_type": "markdown",
   "metadata": {},
   "source": [
    "### (a)"
   ]
  },
  {
   "cell_type": "code",
   "execution_count": 10,
   "metadata": {},
   "outputs": [
    {
     "name": "stdout",
     "output_type": "stream",
     "text": [
      "f(-1/3) is approximated as 0.17741435185185186 . Its true value is 0.17451851851851863\n",
      "f'(-1/3) is approximated as 1.5742083333333334 . Its true value is 1.6679999999999997\n"
     ]
    }
   ],
   "source": [
    "# we should use the first piece\n",
    "a=-1/3\n",
    "print('f(-1/3) is approximated as',np.polyval(pp15a[:,0],a-xa[0]),\n",
    "      '. Its true value is',np.polyval([1,4.001,4.002,1.101],a))\n",
    "print(\"f'(-1/3) is approximated as\",np.polyval(pp15a[:3,0]*[3,2,1],a-xa[0]),\n",
    "     \". Its true value is\",np.polyval(np.array([1,4.001,4.002])*[3,2,1],a))"
   ]
  },
  {
   "cell_type": "markdown",
   "metadata": {},
   "source": [
    "### (b)"
   ]
  },
  {
   "cell_type": "code",
   "execution_count": 11,
   "metadata": {},
   "outputs": [
    {
     "name": "stdout",
     "output_type": "stream",
     "text": [
      "f(0.25) is approximated as 0.7785797521195652 . Its true value is 0.7788007830714049\n",
      "f'(0.25) is approximated as -0.7787432097826087 . Its true value is -0.7788007830714049\n"
     ]
    }
   ],
   "source": [
    "b = 0.25 # we should use the 2nd piece\n",
    "print('f(0.25) is approximated as',np.polyval(pp15b[:,1],b-xb[1]),\n",
    "      '. Its true value is',np.exp(-b))\n",
    "print(\"f'(0.25) is approximated as\",np.polyval(pp15b[:3,1]*[3,2,1],b-xb[1]),\n",
    "     \". Its true value is\",-np.exp(-b))"
   ]
  },
  {
   "cell_type": "markdown",
   "metadata": {},
   "source": [
    "## Ch4-17 (10 pts)\n",
    "Interpolate the Runge function on [-1,1] at 11 equally spaced points. Plot the interpolant and the Runge function in ONE figure, but with Runge in dash and the spline in solid line. How is this spline performing compared to Figure 4.1(b) or Figure 4.2(b)?"
   ]
  },
  {
   "cell_type": "code",
   "execution_count": 33,
   "metadata": {},
   "outputs": [],
   "source": [
    "def Runge(x): return 1/(1+25*x**2)\n",
    "n = 10\n",
    "x17 = np.linspace(-1,1,n+1)\n",
    "y17 = Runge(x17)\n",
    "cs17 = CubicSpline(x17,y17,bc_type='natural')"
   ]
  },
  {
   "cell_type": "code",
   "execution_count": 13,
   "metadata": {},
   "outputs": [
    {
     "data": {
      "image/png": "[encoded data removed]",
      "text/plain": [
       "<Figure size 432x288 with 1 Axes>"
      ]
     },
     "metadata": {},
     "output_type": "display_data"
    }
   ],
   "source": [
    "t = np.arange(-1,1+0.01,0.01)\n",
    "plt.plot(t,Runge(t), color='grey', linestyle='--')\n",
    "plt.scatter(x17,y17, color='k')\n",
    "plt.plot(t,cs17(t), color='red')\n",
    "plt.show()"
   ]
  },
  {
   "cell_type": "markdown",
   "metadata": {},
   "source": [
    "This looks a lot better than the ones in Figure 4.1(b) and Figure 4.2(b)."
   ]
  },
  {
   "cell_type": "markdown",
   "metadata": {},
   "source": [
    "## Ch4-18 (15 pts)"
   ]
  },
  {
   "cell_type": "markdown",
   "metadata": {},
   "source": [
    "### (a)\n",
    "Note that the data on 3/29 is missing. Find an estimation of the cumulative number of cases on 3/29 by interpolating these 16 points via myspline."
   ]
  },
  {
   "cell_type": "code",
   "execution_count": 34,
   "metadata": {},
   "outputs": [],
   "source": [
    "T = np.array([0,1,2,3,4,5,7,8,9,10,11,12,13,14,15,16])\n",
    "# T are the nodes. 0 is 3/23. 3/29 is 6, which is missing.\n",
    "C = np.array([83,100,112,136,191,208,281,315, 363, 403, 495, 543,624,686,794,865])"
   ]
  },
  {
   "cell_type": "code",
   "execution_count": 15,
   "metadata": {},
   "outputs": [],
   "source": [
    "cs18a = myspline(T,C)"
   ]
  },
  {
   "cell_type": "code",
   "execution_count": 35,
   "metadata": {},
   "outputs": [],
   "source": [
    "cs18ap=CubicSpline(T,C,bc_type='natural')"
   ]
  },
  {
   "cell_type": "markdown",
   "metadata": {},
   "source": [
    "to estimate f(6), we need to use the 6th piece"
   ]
  },
  {
   "cell_type": "code",
   "execution_count": 22,
   "metadata": {},
   "outputs": [
    {
     "name": "stdout",
     "output_type": "stream",
     "text": [
      "The number of cases is estimated to be 239.93287468634108\n"
     ]
    }
   ],
   "source": [
    "print(\"The number of cases is estimated to be\",np.polyval(cs18a[:,5],6-T[5]))"
   ]
  },
  {
   "cell_type": "code",
   "execution_count": 37,
   "metadata": {},
   "outputs": [],
   "source": [
    "# cs18ap(6)"
   ]
  },
  {
   "cell_type": "markdown",
   "metadata": {},
   "source": [
    "For the record, the actual number of cases by 3/29 is 237."
   ]
  },
  {
   "cell_type": "markdown",
   "metadata": {},
   "source": [
    "### (b)\n",
    "Redo (a) only using the data in March. How does your estimation compared to that of (a)? Comment on it."
   ]
  },
  {
   "cell_type": "code",
   "execution_count": 17,
   "metadata": {},
   "outputs": [
    {
     "name": "stdout",
     "output_type": "stream",
     "text": [
      "The number of cases is estimated to be 238.7115869017632\n"
     ]
    }
   ],
   "source": [
    "Tb = T[:8] # data in march\n",
    "Cb = C[:8]\n",
    "cs18b = myspline(Tb,Cb)\n",
    "print(\"The number of cases is estimated to be\",np.polyval(cs18b[:,5],6-Tb[5]))"
   ]
  },
  {
   "cell_type": "markdown",
   "metadata": {},
   "source": [
    "The estimates in (a) and (b) are very close to each other. This is because cubic spline interpolation is a very LOCAL thing. It largely depends on the neighboring nodes."
   ]
  },
  {
   "cell_type": "markdown",
   "metadata": {},
   "source": [
    "## Ch4-19 (8 pts)\n",
    "Draw duck"
   ]
  },
  {
   "cell_type": "code",
   "execution_count": 18,
   "metadata": {},
   "outputs": [],
   "source": [
    "data = np.load(\"duck.npy\")"
   ]
  },
  {
   "cell_type": "code",
   "execution_count": 19,
   "metadata": {},
   "outputs": [],
   "source": [
    "cd = CubicSpline(data[0,:],data[1,:],bc_type = 'natural')"
   ]
  },
  {
   "cell_type": "code",
   "execution_count": 20,
   "metadata": {},
   "outputs": [
    {
     "name": "stderr",
     "output_type": "stream",
     "text": [
      "/Users/xchen/anaconda3/lib/python3.6/site-packages/matplotlib/cbook/deprecation.py:107: MatplotlibDeprecationWarning: Adding an axes using the same arguments as a previous axes currently reuses the earlier instance.  In a future version, a new instance will always be created and returned.  Meanwhile, this warning can be suppressed, and the future behavior ensured, by passing a unique label to each axes instance.\n",
      "  warnings.warn(message, mplDeprecation, stacklevel=1)\n"
     ]
    },
    {
     "data": {
      "image/png": "[encoded data removed]",
      "text/plain": [
       "<Figure size 432x288 with 1 Axes>"
      ]
     },
     "metadata": {},
     "output_type": "display_data"
    }
   ],
   "source": [
    "t = np.arange(0.9,13.3+0.01,0.01)  # x[-1] is the last entry of the array x\n",
    "plt.plot(t, cd(t))\n",
    "plt.axes().set_aspect('equal')\n",
    "plt.show()"
   ]
  },
  {
   "cell_type": "code",
   "execution_count": null,
   "metadata": {},
   "outputs": [],
   "source": []
  }
 ],
 "metadata": {
  "kernelspec": {
   "display_name": "Python 3",
   "language": "python",
   "name": "python3"
  },
  "language_info": {
   "codemirror_mode": {
    "name": "ipython",
    "version": 3
   },
   "file_extension": ".py",
   "mimetype": "text/x-python",
   "name": "python",
   "nbconvert_exporter": "python",
   "pygments_lexer": "ipython3",
   "version": "3.6.5"
  }
 },
 "nbformat": 4,
 "nbformat_minor": 2
}
